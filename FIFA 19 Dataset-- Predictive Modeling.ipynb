{
 "cells": [
  {
   "cell_type": "code",
   "execution_count": 3,
   "metadata": {
    "scrolled": false
   },
   "outputs": [
    {
     "data": {
      "text/html": [
       "<div>\n",
       "<style scoped>\n",
       "    .dataframe tbody tr th:only-of-type {\n",
       "        vertical-align: middle;\n",
       "    }\n",
       "\n",
       "    .dataframe tbody tr th {\n",
       "        vertical-align: top;\n",
       "    }\n",
       "\n",
       "    .dataframe thead th {\n",
       "        text-align: right;\n",
       "    }\n",
       "</style>\n",
       "<table border=\"1\" class=\"dataframe\">\n",
       "  <thead>\n",
       "    <tr style=\"text-align: right;\">\n",
       "      <th></th>\n",
       "      <th>index</th>\n",
       "      <th>Name</th>\n",
       "      <th>Nationality</th>\n",
       "      <th>Overall</th>\n",
       "      <th>Position</th>\n",
       "      <th>Height</th>\n",
       "      <th>HeadingAccuracy</th>\n",
       "    </tr>\n",
       "  </thead>\n",
       "  <tbody>\n",
       "    <tr>\n",
       "      <th>0</th>\n",
       "      <td>0</td>\n",
       "      <td>L. Messi</td>\n",
       "      <td>Argentina</td>\n",
       "      <td>94</td>\n",
       "      <td>RF</td>\n",
       "      <td>67</td>\n",
       "      <td>70</td>\n",
       "    </tr>\n",
       "    <tr>\n",
       "      <th>1</th>\n",
       "      <td>1</td>\n",
       "      <td>Cristiano Ronaldo</td>\n",
       "      <td>Portugal</td>\n",
       "      <td>94</td>\n",
       "      <td>ST</td>\n",
       "      <td>74</td>\n",
       "      <td>89</td>\n",
       "    </tr>\n",
       "    <tr>\n",
       "      <th>2</th>\n",
       "      <td>2</td>\n",
       "      <td>Neymar Jr</td>\n",
       "      <td>Brazil</td>\n",
       "      <td>92</td>\n",
       "      <td>LW</td>\n",
       "      <td>69</td>\n",
       "      <td>62</td>\n",
       "    </tr>\n",
       "    <tr>\n",
       "      <th>3</th>\n",
       "      <td>4</td>\n",
       "      <td>K. De Bruyne</td>\n",
       "      <td>Belgium</td>\n",
       "      <td>91</td>\n",
       "      <td>RCM</td>\n",
       "      <td>71</td>\n",
       "      <td>55</td>\n",
       "    </tr>\n",
       "    <tr>\n",
       "      <th>4</th>\n",
       "      <td>5</td>\n",
       "      <td>E. Hazard</td>\n",
       "      <td>Belgium</td>\n",
       "      <td>91</td>\n",
       "      <td>LF</td>\n",
       "      <td>68</td>\n",
       "      <td>61</td>\n",
       "    </tr>\n",
       "    <tr>\n",
       "      <th>...</th>\n",
       "      <td>...</td>\n",
       "      <td>...</td>\n",
       "      <td>...</td>\n",
       "      <td>...</td>\n",
       "      <td>...</td>\n",
       "      <td>...</td>\n",
       "      <td>...</td>\n",
       "    </tr>\n",
       "    <tr>\n",
       "      <th>256</th>\n",
       "      <td>295</td>\n",
       "      <td>N. Gaitán</td>\n",
       "      <td>Argentina</td>\n",
       "      <td>82</td>\n",
       "      <td>CAM</td>\n",
       "      <td>68</td>\n",
       "      <td>54</td>\n",
       "    </tr>\n",
       "    <tr>\n",
       "      <th>257</th>\n",
       "      <td>296</td>\n",
       "      <td>J. Henderson</td>\n",
       "      <td>England</td>\n",
       "      <td>82</td>\n",
       "      <td>RCM</td>\n",
       "      <td>72</td>\n",
       "      <td>65</td>\n",
       "    </tr>\n",
       "    <tr>\n",
       "      <th>258</th>\n",
       "      <td>297</td>\n",
       "      <td>M. Kruse</td>\n",
       "      <td>Germany</td>\n",
       "      <td>82</td>\n",
       "      <td>ST</td>\n",
       "      <td>71</td>\n",
       "      <td>63</td>\n",
       "    </tr>\n",
       "    <tr>\n",
       "      <th>259</th>\n",
       "      <td>298</td>\n",
       "      <td>M. Parolo</td>\n",
       "      <td>Italy</td>\n",
       "      <td>82</td>\n",
       "      <td>RDM</td>\n",
       "      <td>72</td>\n",
       "      <td>75</td>\n",
       "    </tr>\n",
       "    <tr>\n",
       "      <th>260</th>\n",
       "      <td>299</td>\n",
       "      <td>L. Fejsa</td>\n",
       "      <td>Serbia</td>\n",
       "      <td>82</td>\n",
       "      <td>CDM</td>\n",
       "      <td>72</td>\n",
       "      <td>73</td>\n",
       "    </tr>\n",
       "  </tbody>\n",
       "</table>\n",
       "<p>261 rows × 7 columns</p>\n",
       "</div>"
      ],
      "text/plain": [
       "     index               Name Nationality  Overall Position  Height  \\\n",
       "0        0           L. Messi   Argentina       94       RF      67   \n",
       "1        1  Cristiano Ronaldo    Portugal       94       ST      74   \n",
       "2        2          Neymar Jr      Brazil       92       LW      69   \n",
       "3        4       K. De Bruyne     Belgium       91      RCM      71   \n",
       "4        5          E. Hazard     Belgium       91       LF      68   \n",
       "..     ...                ...         ...      ...      ...     ...   \n",
       "256    295          N. Gaitán   Argentina       82      CAM      68   \n",
       "257    296       J. Henderson     England       82      RCM      72   \n",
       "258    297           M. Kruse     Germany       82       ST      71   \n",
       "259    298          M. Parolo       Italy       82      RDM      72   \n",
       "260    299           L. Fejsa      Serbia       82      CDM      72   \n",
       "\n",
       "     HeadingAccuracy  \n",
       "0                 70  \n",
       "1                 89  \n",
       "2                 62  \n",
       "3                 55  \n",
       "4                 61  \n",
       "..               ...  \n",
       "256               54  \n",
       "257               65  \n",
       "258               63  \n",
       "259               75  \n",
       "260               73  \n",
       "\n",
       "[261 rows x 7 columns]"
      ]
     },
     "execution_count": 3,
     "metadata": {},
     "output_type": "execute_result"
    }
   ],
   "source": [
    "import pandas as pd\n",
    "import numpy as np\n",
    "\n",
    "#read in dataset\n",
    "fifadf = pd.read_csv('/Users/laithkhas/Desktop/Data Files/FIFA19.csv', \n",
    "                     usecols = ['Name', 'Nationality', 'Overall', 'Position',\n",
    "                               'Height', 'HeadingAccuracy'], \n",
    "                     nrows = 300\n",
    "                    )\n",
    "#goalkeepers can't finish for shit so they're an outlier, filter out of dataset\n",
    "fifadf = fifadf[fifadf.Position != 'GK']\n",
    "fifadf = fifadf.reset_index()\n",
    "\n",
    "#convert height string to numerical value\n",
    "fifadf['feet'] = pd.to_numeric(fifadf['Height'].str[0])\n",
    "fifadf['inches'] = pd.to_numeric(fifadf['Height'].str[2:])\n",
    "fifadf['Height'] = (fifadf.feet * 12) + fifadf.inches\n",
    "\n",
    "#drop new columns to clean up a bit\n",
    "fifadf = fifadf.drop(['feet', 'inches'], axis=1)\n",
    "fifadf"
   ]
  },
  {
   "cell_type": "code",
   "execution_count": 4,
   "metadata": {},
   "outputs": [
    {
     "data": {
      "text/plain": [
       "Text(0, 0.5, 'Heading Accuracy')"
      ]
     },
     "execution_count": 4,
     "metadata": {},
     "output_type": "execute_result"
    },
    {
     "data": {
      "image/png": "[encoded data removed]",
      "text/plain": [
       "<Figure size 432x288 with 1 Axes>"
      ]
     },
     "metadata": {},
     "output_type": "display_data"
    }
   ],
   "source": [
    "%matplotlib inline\n",
    "import matplotlib.pyplot as plt\n",
    "\n",
    "from matplotlib import style\n",
    "style.use(\"fivethirtyeight\")\n",
    "\n",
    "plt.scatter(fifadf.Height, fifadf.HeadingAccuracy)\n",
    "plt.title('FIFA 19 Height & Heading Accuracy')\n",
    "plt.xlabel('Height (Inches)')\n",
    "plt.ylabel('Heading Accuracy')"
   ]
  },
  {
   "cell_type": "code",
   "execution_count": 5,
   "metadata": {},
   "outputs": [
    {
     "name": "stdout",
     "output_type": "stream",
     "text": [
      "This is what my heading accuracy would be if I was in FIFA 19: 75 Heading Accuracy\n"
     ]
    },
    {
     "data": {
      "image/png": "[encoded data removed]",
      "text/plain": [
       "<Figure size 432x288 with 1 Axes>"
      ]
     },
     "metadata": {},
     "output_type": "display_data"
    }
   ],
   "source": [
    "#import linear regression function from scikit\n",
    "from sklearn.linear_model import LinearRegression\n",
    "\n",
    "#set graph style\n",
    "style.use(\"ggplot\")\n",
    "\n",
    "#graph labeling\n",
    "plt.title('FIFA 19 Height & Heading Accuracy')\n",
    "plt.xlabel('Height (Inches)')\n",
    "plt.ylabel('Heading Accuracy')\n",
    "#use fifa dataframe\n",
    "fifadf\n",
    "\n",
    "#create empty arrays to be filled with data for graphing\n",
    "heightArray = []\n",
    "headaccArray = []\n",
    "#loop through data frames to fill data as it goes\n",
    "i = 0\n",
    "for i in fifadf.Height:\n",
    "    heightArray.append([fifadf.Height[i]])\n",
    "    headaccArray.append([fifadf.HeadingAccuracy[i]])\n",
    "    i += 1\n",
    "\n",
    "#plot data on graph\n",
    "plt.plot(fifadf.Height, fifadf.HeadingAccuracy, 'k.')\n",
    "plt.grid(True)\n",
    "\n",
    "#fit with linear regression line/ model\n",
    "fifaModel = LinearRegression()\n",
    "fifaModel.fit(X = heightArray, y = headaccArray)\n",
    "plt.plot(headaccArray, fifaModel.predict(headaccArray), color='r')\n",
    "\n",
    "#I'm 6'1, so below is my heading accuracy supposedly if I were in FIFA 19\n",
    "print(\"This is what my heading accuracy would be if I was in FIFA 19: %.0f Heading Accuracy\" % \n",
    "      fifaModel.predict([[73]])[0][0]\n",
    "     )"
   ]
  },
  {
   "cell_type": "code",
   "execution_count": 6,
   "metadata": {},
   "outputs": [
    {
     "name": "stdout",
     "output_type": "stream",
     "text": [
      "Residual sum of squares: 37390.73\n"
     ]
    }
   ],
   "source": [
    "#Calculate RSS\n",
    "import numpy as np\n",
    "print('Residual sum of squares: %.2f' % \n",
    "      np.sum((headaccArray - fifaModel.predict(heightArray)) ** 2))\n",
    "#DEFINITELY NO CORRELATION, BUT THIS WAS FUN ANYWAY"
   ]
  },
  {
   "cell_type": "code",
   "execution_count": null,
   "metadata": {},
   "outputs": [],
   "source": []
  }
 ],
 "metadata": {
  "kernelspec": {
   "display_name": "Python 3",
   "language": "python",
   "name": "python3"
  },
  "language_info": {
   "codemirror_mode": {
    "name": "ipython",
    "version": 3
   },
   "file_extension": ".py",
   "mimetype": "text/x-python",
   "name": "python",
   "nbconvert_exporter": "python",
   "pygments_lexer": "ipython3",
   "version": "3.8.5"
  }
 },
 "nbformat": 4,
 "nbformat_minor": 4
}
